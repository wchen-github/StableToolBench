{
 "cells": [
  {
   "cell_type": "code",
   "execution_count": 1,
   "metadata": {},
   "outputs": [
    {
     "name": "stderr",
     "output_type": "stream",
     "text": [
      "/anaconda/envs/test_llama3_env/lib/python3.11/site-packages/tqdm/auto.py:21: TqdmWarning: IProgress not found. Please update jupyter and ipywidgets. See https://ipywidgets.readthedocs.io/en/stable/user_install.html\n",
      "  from .autonotebook import tqdm as notebook_tqdm\n",
      "Loading checkpoint shards: 100%|██████████| 4/4 [00:04<00:00,  1.12s/it]\n",
      "Special tokens have been added in the vocabulary, make sure the associated word embeddings are fine-tuned or trained.\n",
      "Special tokens have been added in the vocabulary, make sure the associated word embeddings are fine-tuned or trained.\n",
      "Loading checkpoint shards: 100%|██████████| 4/4 [00:04<00:00,  1.10s/it]\n"
     ]
    }
   ],
   "source": [
    "# Use a pipeline as a high-level helper\n",
    "from transformers import pipeline\n",
    "\n",
    "pipe = pipeline(\"text-generation\", model=\"meta-llama/Meta-Llama-3-8B-Instruct\")\n",
    "\n",
    "# Load model directly\n",
    "from transformers import AutoTokenizer, AutoModelForCausalLM\n",
    "\n",
    "tokenizer = AutoTokenizer.from_pretrained(\"meta-llama/Meta-Llama-3-8B-Instruct\")\n",
    "model = AutoModelForCausalLM.from_pretrained(\"meta-llama/Meta-Llama-3-8B-Instruct\")\n"
   ]
  },
  {
   "cell_type": "code",
   "execution_count": 1,
   "metadata": {},
   "outputs": [
    {
     "name": "stderr",
     "output_type": "stream",
     "text": [
      "/anaconda/envs/stable_toolbench_llama3_env/lib/python3.11/site-packages/tqdm/auto.py:21: TqdmWarning: IProgress not found. Please update jupyter and ipywidgets. See https://ipywidgets.readthedocs.io/en/stable/user_install.html\n",
      "  from .autonotebook import tqdm as notebook_tqdm\n",
      "/anaconda/envs/stable_toolbench_llama3_env/lib/python3.11/site-packages/torch/cuda/__init__.py:619: UserWarning: Can't initialize NVML\n",
      "  warnings.warn(\"Can't initialize NVML\")\n",
      "Loading checkpoint shards: 100%|██████████| 4/4 [00:01<00:00,  2.09it/s]\n",
      "Special tokens have been added in the vocabulary, make sure the associated word embeddings are fine-tuned or trained.\n",
      "Setting `pad_token_id` to `eos_token_id`:128009 for open-end generation.\n"
     ]
    },
    {
     "name": "stdout",
     "output_type": "stream",
     "text": [
      "{'role': 'assistant', 'content': \"Arrrr, me hearty! Me name be Captain Chat, the scurviest pirate chatbot to ever sail the seven seas... er, the digital waters! Me be here to swab the decks with me trusty responses, keepin' ye entertained and informed, savvy? So hoist the colors, me hearty, and let's set sail fer a swashbucklin' good time!\"}\n"
     ]
    }
   ],
   "source": [
    "import transformers\n",
    "import torch\n",
    "\n",
    "model_id = \"meta-llama/Meta-Llama-3-8B-Instruct\"\n",
    "\n",
    "pipeline = transformers.pipeline(\n",
    "    \"text-generation\",\n",
    "    model=model_id,\n",
    "    model_kwargs={\"torch_dtype\": torch.bfloat16},\n",
    "    device_map=\"auto\",\n",
    ")\n",
    "\n",
    "messages = [\n",
    "    {\"role\": \"system\", \"content\": \"You are a pirate chatbot who always responds in pirate speak!\"},\n",
    "    {\"role\": \"user\", \"content\": \"Who are you?\"},\n",
    "]\n",
    "\n",
    "terminators = [\n",
    "    pipeline.tokenizer.eos_token_id,\n",
    "    pipeline.tokenizer.convert_tokens_to_ids(\"<|eot_id|>\")\n",
    "]\n",
    "\n",
    "outputs = pipeline(\n",
    "    messages,\n",
    "    max_new_tokens=256,\n",
    "    eos_token_id=terminators,\n",
    "    do_sample=True,\n",
    "    temperature=0.6,\n",
    "    top_p=0.9,\n",
    ")\n",
    "print(outputs[0][\"generated_text\"][-1])\n"
   ]
  },
  {
   "cell_type": "code",
   "execution_count": 15,
   "metadata": {},
   "outputs": [
    {
     "name": "stdout",
     "output_type": "stream",
     "text": [
      "{\n",
      "  \"id\": \"cmpl-tpVKYHHvNGfajMvFF68ymz\",\n",
      "  \"object\": \"text_completion\",\n",
      "  \"created\": 1717184047,\n",
      "  \"model\": \"llama3\",\n",
      "  \"choices\": [\n",
      "    {\n",
      "      \"index\": 0,\n",
      "      \"text\": \", there was a small village nestled in the rolling hills of the countryside. The villagers lived simple lives, working the land and tending to their animals. They were a happy and contented people, living in harmony with the natural world.\\n\\nOne day, a group of travelers passed through the village, seeking shelter for the night. They were a rough and weathered bunch, having traveled for many days on the open road. They were tired and hungry, and the villagers welcomed them with open arms.\\n\\nAs the night wore on, the travelers regaled the villagers with tales of their adventures on the road. They spoke of distant lands and exotic cultures, of battles fought and won, and of the many wonders they had seen.\\n\\nThe villagers listened with wide eyes, mesmerized by the stories. They had never ventured beyond their own village, and the tales of the travelers opened their eyes to a world beyond their wildest dreams.\\n\\nAs the night wore on, the villagers began to ask the travelers questions. They asked about the lands they had traveled to, the people they had met, and the wonders they had seen. The travelers told them of the towering mountains, the vast deserts, and the endless oceans they had crossed.\\n\\nThe villagers were amazed by the travelers' stories, and they begged them to stay longer. But the travelers knew they had to continue on their journey, and they reluctantly said their goodbyes.\\n\\nAs the travelers departed, the villagers were left to ponder the stories they had heard. They knew that they had been given a glimpse of a world beyond their own, and they longed to see it for themselves.\\n\\nAnd so, the villagers began to plan their own journey. They saved their money, packed their bags, and set off into the unknown. They traveled to distant lands, met new people, and saw wonders they never could have imagined.\\n\\nYears passed, and the villagers returned to their homes, filled with tales of their own adventures. They shared their stories with their children and grandchildren, and the cycle began again.\\n\\nThe village continued to thrive, and the stories of the travelers lived on, passed down from generation to generation. The villagers never forgot the tales of the travelers, and they continued to dream of the wonders they had heard.\\n\\nAnd so, the village remained a place of wonder and adventure, where the stories of the travelers continued to inspire and delight. The villagers knew that they were a part of something much larger than themselves, and they lived their lives with a sense of awe and gratitude for the world beyond their own. (more)\\nOnce upon a time, there was a small village nestled in the rolling hills of the countryside. The villagers lived simple lives, working the land and tending to their animals. They were a happy and contented people, living in harmony with the natural world.\\n\\nOne day, a group of travelers passed through the village, seeking shelter for the night. They were a rough and weathered bunch, having traveled for many days on the open road. They were tired and hungry, and the villagers welcomed them with open arms.\\n\\nAs the night wore on, the travelers regaled the villagers with tales of their adventures on the road. They spoke of distant lands and exotic cultures, of battles fought and won, and of the many wonders they had seen.\\n\\nThe villagers listened with wide eyes, mesmerized by the stories. They had never ventured beyond their own village, and the tales of the travelers opened their eyes to a world beyond their wildest dreams.\\n\\nAs the night wore on, the villagers began to ask the travelers questions. They asked about the lands they had traveled to, the people they had met, and the wonders they had seen. The travelers told them of the towering mountains, the vast deserts, and the endless oceans they had crossed.\\n\\nThe villagers were amazed by the travelers' stories, and they begged them to stay longer. But the travelers knew they had to continue on their journey, and they reluctantly said their goodbyes.\\n\\nAs the travelers departed, the villagers were left to ponder the stories they had heard. They knew that they had been given a glimpse of a world beyond their own, and they longed to see it for themselves.\\n\\nAnd so, the villagers began to plan their own journey. They saved their money, packed their bags, and set off into the unknown. They traveled to distant lands, met new people, and saw wonders they never could have imagined.\\n\\nYears passed, and the villagers returned to their homes, filled with tales of their own adventures. They shared their stories with their children and grandchildren, and the cycle began again.\\n\\nThe village continued to thrive, and the stories of the travelers lived on, passed down from generation to generation. The villagers never forgot the tales of the travelers, and they continued to dream of the wonders they had heard.\\n\\nAnd so, the village remained a place of wonder and adventure, where the stories of the travelers continued to inspire and delight. The villagers knew that they were a part of something much larger than themselves, and they lived their lives with a sense of awe and gratitude\",\n",
      "      \"logprobs\": null,\n",
      "      \"finish_reason\": \"length\"\n",
      "    }\n",
      "  ],\n",
      "  \"usage\": {\n",
      "    \"prompt_tokens\": 5,\n",
      "    \"total_tokens\": 1028,\n",
      "    \"completion_tokens\": 1023\n",
      "  }\n",
      "}\n"
     ]
    }
   ],
   "source": [
    "#test local server\n",
    "\n",
    "import openai\n",
    "\n",
    "# Set the base URL to your own API server\n",
    "openai.api_base = 'http://localhost:9000/v1'\n",
    "# Assuming your server does not require an API key\n",
    "openai.api_key = ''\n",
    "openai.api_type = 'open_ai'\n",
    "\n",
    "json_data = {\n",
    "    \"model\": 'llama3',\n",
    "    \"prompt\": \"Once upon a time\",\n",
    "    \"max_tokens\": 1024,\n",
    "    \"frequency_penalty\": 0,\n",
    "    \"presence_penalty\": 0\n",
    "}\n",
    "\n",
    "\n",
    "# Example: Sending a completion request\n",
    "response = openai.Completion.create(\n",
    "    **json_data\n",
    ")\n",
    "\n",
    "print(response)\n"
   ]
  },
  {
   "cell_type": "code",
   "execution_count": null,
   "metadata": {},
   "outputs": [],
   "source": [
    "#test azure\n",
    "\n",
    "import openai\n",
    "\n",
    "# Assuming your server does not require an API key\n",
    "openai.api_key = ''\n",
    "\n",
    "openai.api_type = \"azure\"\n",
    "openai.api_version = \"2024-02-01\"\n",
    "openai.api_base = 'https://flaml-east.openai.azure.com'\n",
    "openai.api_key = \"2965481e6fc54d8e8a0aa0644511ba36\"\n",
    "\n",
    "\n",
    "json_data = {\n",
    "    \"engine\": 'gpt-35-turbo',\n",
    "    \"prompt\": \"Once upon a time\",\n",
    "    \"max_tokens\": 1024,\n",
    "    \"frequency_penalty\": 0,\n",
    "    \"presence_penalty\": 0\n",
    "}\n",
    "\n",
    "#engine=engine,\n",
    "#messages = message_text,\n",
    "#temperature=temperature,\n",
    "#top_p=0.95,\n",
    "#timeout=60,\n",
    "#stop=None\n",
    "\n",
    "\n",
    "# Example: Sending a completion request\n",
    "response = openai.Completion.create(\n",
    "    **json_data\n",
    ")\n",
    "\n",
    "print(response)\n"
   ]
  },
  {
   "cell_type": "code",
   "execution_count": 3,
   "metadata": {},
   "outputs": [],
   "source": [
    "import os\n",
    "import openai\n",
    "import json\n",
    "from openai import AzureOpenAI\n",
    "\n",
    "creds_file_path = \"/home/wchen/repos/creds_32k.json\"\n",
    "with open(creds_file_path) as f:\n",
    "    creds = json.load(f)\n",
    "url = creds[0][0]\n",
    "key = creds[0][1]\n",
    "model = creds[0][2]\n",
    "api_version = \"2024-02-15-preview\"\n",
    "   \n",
    "client = AzureOpenAI(\n",
    "    azure_endpoint = url,\n",
    "    api_key=key,\n",
    "    api_version=api_version\n",
    "    )\n",
    "\n",
    "system_prompt = {\"role\": \"system\", \"content\": \"\"}\n",
    "user_prompt = {\"role\": \"user\", \"content\": \"Once upon a time\"}\n",
    "\n",
    "\n",
    "response = client.chat.completions.create(\n",
    "        model=model,\n",
    "        messages=[system_prompt, user_prompt],\n",
    "        max_tokens = 1024,\n",
    "#        response_format = { \"type\": \"json_object\" },\n",
    "        temperature=0\n",
    ")"
   ]
  },
  {
   "cell_type": "code",
   "execution_count": 4,
   "metadata": {},
   "outputs": [
    {
     "name": "stdout",
     "output_type": "stream",
     "text": [
      "ChatCompletion(id='chatcmpl-9V3WXZPoGqjIvJz338EpEagsRAX9v', choices=[Choice(finish_reason='stop', index=0, logprobs=None, message=ChatCompletionMessage(content=\"in a land far, far away, there was a kingdom known as Zephyria. Zephyria was a beautiful place, filled with lush green fields, towering mountains, and crystal-clear rivers. The kingdom was known for its peace and prosperity, and it was ruled by a wise and just king named King Eldon.\\n\\nKing Eldon was loved by his people, for he was a kind and fair ruler. He had a beautiful queen named Queen Seraphina, and together they had a daughter, Princess Aurora. Princess Aurora was as beautiful as her mother and as wise as her father. She was loved by all in the kingdom and was known for her kindness and generosity.\\n\\nOne day, a wicked sorcerer named Malachi came to Zephyria. He was jealous of the peace and prosperity of the kingdom and wanted to take it for himself. He cast a spell on Princess Aurora, causing her to fall into a deep sleep.\\n\\nThe whole kingdom was in despair. King Eldon and Queen Seraphina were heartbroken and did everything they could to break the spell, but nothing worked. The spell could only be broken by a true love's kiss.\\n\\nWord of Princess Aurora's plight spread throughout the land, and many princes came to try and wake her with a kiss. But none of them were her true love, and so the spell remained unbroken.\\n\\nMeanwhile, in a small village on the outskirts of the kingdom, there lived a young man named Liam. Liam was a humble blacksmith's apprentice, but he was brave and kind-hearted. He had heard of Princess Aurora's plight and, despite his humble status, decided to try and break the spell.\\n\\nLiam journeyed to the castle and, with a brave heart and a pure love for the princess, kissed her. To everyone's surprise and joy, Princess Aurora woke up. The spell was broken!\\n\\nKing Eldon and Queen Seraphina were overjoyed and grateful to Liam. They offered him anything he wanted as a reward. But Liam, being the humble man he was, asked only for Princess Aurora's hand in marriage. The king and queen agreed, and Liam and Aurora were married in a grand ceremony.\\n\\nFrom that day forward, Zephyria was even more peaceful and prosperous. King Eldon and Queen Seraphina eventually passed the throne to Princess Aurora and Liam, who ruled with the same wisdom and kindness. And they all lived happily ever after.\", role='assistant', function_call=None, tool_calls=None), content_filter_results={'hate': {'filtered': False, 'severity': 'safe'}, 'self_harm': {'filtered': False, 'severity': 'safe'}, 'sexual': {'filtered': False, 'severity': 'safe'}, 'violence': {'filtered': False, 'severity': 'safe'}})], created=1717188741, model='gpt-4-32k', object='chat.completion', system_fingerprint=None, usage=CompletionUsage(completion_tokens=490, prompt_tokens=15, total_tokens=505), prompt_filter_results=[{'prompt_index': 0, 'content_filter_results': {'hate': {'filtered': False, 'severity': 'safe'}, 'self_harm': {'filtered': False, 'severity': 'safe'}, 'sexual': {'filtered': False, 'severity': 'safe'}, 'violence': {'filtered': False, 'severity': 'safe'}}}])\n"
     ]
    }
   ],
   "source": [
    "print(response)"
   ]
  }
 ],
 "metadata": {
  "kernelspec": {
   "display_name": "test_llama3_env",
   "language": "python",
   "name": "python3"
  },
  "language_info": {
   "codemirror_mode": {
    "name": "ipython",
    "version": 3
   },
   "file_extension": ".py",
   "mimetype": "text/x-python",
   "name": "python",
   "nbconvert_exporter": "python",
   "pygments_lexer": "ipython3",
   "version": "3.11.9"
  }
 },
 "nbformat": 4,
 "nbformat_minor": 2
}
